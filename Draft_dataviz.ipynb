{
 "cells": [
  {
   "cell_type": "markdown",
   "metadata": {},
   "source": [
    "# CONFIG"
   ]
  },
  {
   "cell_type": "code",
   "execution_count": 56,
   "metadata": {},
   "outputs": [],
   "source": [
    "import streamlit as st\n",
    "import sqlalchemy as db\n",
    "import sqlite3\n",
    "import pandas as pd\n",
    "import matplotlib.pyplot as plt\n",
    "import plotly.express as px\n",
    "import time\n",
    "from datetime import datetime\n",
    "import textwrap"
   ]
  },
  {
   "cell_type": "markdown",
   "metadata": {},
   "source": [
    "# DATA STRUCTURING"
   ]
  },
  {
   "cell_type": "markdown",
   "metadata": {},
   "source": [
    "### Q1 DATA"
   ]
  },
  {
   "cell_type": "code",
   "execution_count": 57,
   "metadata": {},
   "outputs": [],
   "source": [
    "#connect to the SQL database\n",
    "connection = sqlite3.connect('bce.db')\n",
    "#query tables\n",
    "sql_query_Q1T1 = pd.read_sql_query ('''\n",
    "                                SELECT count(EnterpriseNumber) as Total_Enterprise, Description\n",
    "                                FROM enterprise\n",
    "                                INNER JOIN code ON enterprise.JuridicalForm = code.Code\n",
    "                                WHERE code.Language = 'FR' AND code.Category = 'JuridicalForm'\n",
    "                                Group by Description\n",
    "                                Order by count(EnterpriseNumber) DESC;\n",
    "                                ''', connection)\n",
    "\n",
    "#Create a dataframe 1 to prepare graph input\n",
    "df_Q1T1_most_frequent = sql_query_Q1T1.iloc[:6,:]\n",
    "data = [{'Description':'Autres','Total_Enterprise':sql_query_Q1T1['Total_Enterprise'][6:].sum()}]\n",
    "data_df = pd.DataFrame(data)\n",
    "df_Q1T1 = pd.concat([df_Q1T1_most_frequent, data_df])"
   ]
  },
  {
   "cell_type": "code",
   "execution_count": 58,
   "metadata": {},
   "outputs": [
    {
     "data": {
      "text/html": [
       "<div>\n",
       "<style scoped>\n",
       "    .dataframe tbody tr th:only-of-type {\n",
       "        vertical-align: middle;\n",
       "    }\n",
       "\n",
       "    .dataframe tbody tr th {\n",
       "        vertical-align: top;\n",
       "    }\n",
       "\n",
       "    .dataframe thead th {\n",
       "        text-align: right;\n",
       "    }\n",
       "</style>\n",
       "<table border=\"1\" class=\"dataframe\">\n",
       "  <thead>\n",
       "    <tr style=\"text-align: right;\">\n",
       "      <th></th>\n",
       "      <th>Total_Enterprise</th>\n",
       "      <th>Description</th>\n",
       "    </tr>\n",
       "  </thead>\n",
       "  <tbody>\n",
       "    <tr>\n",
       "      <th>0</th>\n",
       "      <td>356509</td>\n",
       "      <td>Société privée à responsabilité limitée</td>\n",
       "    </tr>\n",
       "    <tr>\n",
       "      <th>1</th>\n",
       "      <td>170607</td>\n",
       "      <td>Société à responsabilité limitée</td>\n",
       "    </tr>\n",
       "    <tr>\n",
       "      <th>2</th>\n",
       "      <td>140375</td>\n",
       "      <td>Association sans but lucratif</td>\n",
       "    </tr>\n",
       "    <tr>\n",
       "      <th>3</th>\n",
       "      <td>99035</td>\n",
       "      <td>Société anonyme</td>\n",
       "    </tr>\n",
       "    <tr>\n",
       "      <th>4</th>\n",
       "      <td>94015</td>\n",
       "      <td>Association des copropriétaires</td>\n",
       "    </tr>\n",
       "    <tr>\n",
       "      <th>...</th>\n",
       "      <td>...</td>\n",
       "      <td>...</td>\n",
       "    </tr>\n",
       "    <tr>\n",
       "      <th>101</th>\n",
       "      <td>1</td>\n",
       "      <td>Monts-de-Piété</td>\n",
       "    </tr>\n",
       "    <tr>\n",
       "      <th>102</th>\n",
       "      <td>1</td>\n",
       "      <td>Ministère des Classes moyennes</td>\n",
       "    </tr>\n",
       "    <tr>\n",
       "      <th>103</th>\n",
       "      <td>1</td>\n",
       "      <td>Ministère des Affaires étrangères, Commerce ex...</td>\n",
       "    </tr>\n",
       "    <tr>\n",
       "      <th>104</th>\n",
       "      <td>1</td>\n",
       "      <td>Ministère de la Région de Bruxelles-Capitale</td>\n",
       "    </tr>\n",
       "    <tr>\n",
       "      <th>105</th>\n",
       "      <td>1</td>\n",
       "      <td>Autre forme à finalité sociale de droit public</td>\n",
       "    </tr>\n",
       "  </tbody>\n",
       "</table>\n",
       "<p>106 rows × 2 columns</p>\n",
       "</div>"
      ],
      "text/plain": [
       "     Total_Enterprise                                        Description\n",
       "0              356509            Société privée à responsabilité limitée\n",
       "1              170607                   Société à responsabilité limitée\n",
       "2              140375                      Association sans but lucratif\n",
       "3               99035                                    Société anonyme\n",
       "4               94015                    Association des copropriétaires\n",
       "..                ...                                                ...\n",
       "101                 1                                     Monts-de-Piété\n",
       "102                 1                     Ministère des Classes moyennes\n",
       "103                 1  Ministère des Affaires étrangères, Commerce ex...\n",
       "104                 1       Ministère de la Région de Bruxelles-Capitale\n",
       "105                 1     Autre forme à finalité sociale de droit public\n",
       "\n",
       "[106 rows x 2 columns]"
      ]
     },
     "execution_count": 58,
     "metadata": {},
     "output_type": "execute_result"
    }
   ],
   "source": [
    "sql_query_Q1T1"
   ]
  },
  {
   "cell_type": "markdown",
   "metadata": {},
   "source": [
    "### Q2 DATA"
   ]
  },
  {
   "cell_type": "code",
   "execution_count": 59,
   "metadata": {},
   "outputs": [],
   "source": [
    "# #query tables : Which percentage of the companies are under which Status?\n",
    "# sql_query_Q2 = pd.read_sql_query ('''\n",
    "#                                SELECT count(EnterpriseNumber), Status\n",
    "#                                FROM enterprise\n",
    "#                                ''', connection)\n",
    "\n",
    "# #Create dataframe\n",
    "# df_Q2 = pd.DataFrame(sql_query_Q2)\n",
    "# score_active_ent = df_Q2.iat[0,0]\n",
    "# print(str(score_active_ent))\n",
    "\n",
    "connection = sqlite3.connect('bce.db')\n",
    "sql_query_Q2 = pd.read_sql_query ('''\n",
    "                               SELECT count(EnterpriseNumber) as Enterprise, Status\n",
    "                               FROM enterprise\n",
    "                               ''', connection)\n",
    "#Create dataframe\n",
    "df_Q2 = pd.DataFrame(sql_query_Q2)\n",
    "\n",
    "#Calculating percentage\n",
    "df_Q2['Percentage'] = (df_Q2['Enterprise']/df_Q2['Enterprise'].sum()) * 100\n",
    "#Assigning scores into values\n",
    "score_active_ent = df_Q2.iat[0,0]\n",
    "score_active_ent_prc = int(df_Q2.iat[0,2])\n"
   ]
  },
  {
   "cell_type": "markdown",
   "metadata": {},
   "source": [
    "### Q3 DATA"
   ]
  },
  {
   "cell_type": "code",
   "execution_count": 60,
   "metadata": {},
   "outputs": [
    {
     "data": {
      "text/html": [
       "<div>\n",
       "<style scoped>\n",
       "    .dataframe tbody tr th:only-of-type {\n",
       "        vertical-align: middle;\n",
       "    }\n",
       "\n",
       "    .dataframe tbody tr th {\n",
       "        vertical-align: top;\n",
       "    }\n",
       "\n",
       "    .dataframe thead th {\n",
       "        text-align: right;\n",
       "    }\n",
       "</style>\n",
       "<table border=\"1\" class=\"dataframe\">\n",
       "  <thead>\n",
       "    <tr style=\"text-align: right;\">\n",
       "      <th></th>\n",
       "      <th>count(EnterpriseNumber)</th>\n",
       "      <th>Description</th>\n",
       "    </tr>\n",
       "  </thead>\n",
       "  <tbody>\n",
       "    <tr>\n",
       "      <th>0</th>\n",
       "      <td>763643</td>\n",
       "      <td>Personne physique</td>\n",
       "    </tr>\n",
       "    <tr>\n",
       "      <th>1</th>\n",
       "      <td>1099649</td>\n",
       "      <td>Personne morale</td>\n",
       "    </tr>\n",
       "  </tbody>\n",
       "</table>\n",
       "</div>"
      ],
      "text/plain": [
       "   count(EnterpriseNumber)        Description\n",
       "0                   763643  Personne physique\n",
       "1                  1099649    Personne morale"
      ]
     },
     "execution_count": 60,
     "metadata": {},
     "output_type": "execute_result"
    }
   ],
   "source": [
    "#query tables : Which percentage of the companies are which type of entreprise?\n",
    "sql_query_Q3T1 = pd.read_sql_query ('''\n",
    "                               SELECT count(EnterpriseNumber), TypeOfEnterprise\n",
    "                               FROM enterprise\n",
    "                               Group by TypeOfEnterprise\n",
    "                               ''', connection)\n",
    "\n",
    "sql_query_Q3T2 = pd.read_sql_query ('''\n",
    "                               SELECT *\n",
    "                               FROM code\n",
    "                               WHERE Language==\"FR\" AND Category==\"TypeOfEnterprise\"\n",
    "                               ''', connection)\n",
    "\n",
    "df_Q3T1 = pd.DataFrame(sql_query_Q3T1)\n",
    "df_Q3T1.rename(columns = {'TypeOfEnterprise':'Code'}, inplace = True)\n",
    "df_Q3T2 = pd.DataFrame(sql_query_Q3T2)\n",
    "df_Q3 = pd.merge(df_Q3T1, df_Q3T2, on='Code')\n",
    "df_Q3 = df_Q3[[\"count(EnterpriseNumber)\", \"Description\"]]\n",
    "df_Q3\n"
   ]
  },
  {
   "cell_type": "markdown",
   "metadata": {},
   "source": [
    "### Q4 DATA"
   ]
  },
  {
   "cell_type": "code",
   "execution_count": 61,
   "metadata": {},
   "outputs": [],
   "source": [
    "# #ANALYSIS - Whether or not using NACE 2003?\n",
    "# sql_query_Q4 = pd.read_sql_query ('''\n",
    "#                                SELECT EntityNumber, NaceVersion\n",
    "#                                FROM activity\n",
    "#                                ''', connection)\n",
    "\n",
    "# df_Q4 = pd.DataFrame(sql_query_Q4)\n",
    "# # df_Q4[\"EntityNumber\"]=df_Q4[\"EntityNumber\"].drop_duplicates(keep:False)\n",
    "# df_Q4 = df_Q4.drop_duplicates(subset=[\"EntityNumber\"], keep=False)\n",
    "# df_Q4 = df_Q4.groupby([\"NaceVersion\"])[\"EntityNumber\"].count()\n",
    "# df_Q4\n"
   ]
  },
  {
   "cell_type": "code",
   "execution_count": 62,
   "metadata": {},
   "outputs": [],
   "source": [
    "df_Q4M2008 = pd.read_csv(\"mapping_sector_2008.csv\")\n",
    "sql_query_Q4T1 = pd.read_sql_query ('''\n",
    "                               SELECT EnterpriseNumber, StartDate, NaceCode\n",
    "                               FROM enterprise\n",
    "                               INNER JOIN activity ON enterprise.EnterpriseNumber = activity.EntityNumber\n",
    "                               WHERE NaceVersion==2008\n",
    "                               ''',connection)"
   ]
  },
  {
   "cell_type": "code",
   "execution_count": 63,
   "metadata": {},
   "outputs": [],
   "source": [
    "#DATA CLEANING : FIrst two digit extract and age caclulation\n",
    "df_Q4T1 = pd.DataFrame(sql_query_Q4T1)\n",
    "df_Q4T1[\"NaceCode\"] = df_Q4T1.NaceCode.str[:2].astype(int)\n",
    "\n",
    "today = datetime.today()\n",
    "df_Q4T1[\"StartDate\"] = pd.to_datetime(df_Q4T1[\"StartDate\"], errors='coerce')\n",
    "df_Q4T1['age'] = df_Q4T1[\"StartDate\"].apply(\n",
    "               lambda x: today.year - x.year - \n",
    "               ((today.month, today.day) < (x.month, x.day)))"
   ]
  },
  {
   "cell_type": "code",
   "execution_count": 64,
   "metadata": {},
   "outputs": [
    {
     "data": {
      "text/html": [
       "<div>\n",
       "<style scoped>\n",
       "    .dataframe tbody tr th:only-of-type {\n",
       "        vertical-align: middle;\n",
       "    }\n",
       "\n",
       "    .dataframe tbody tr th {\n",
       "        vertical-align: top;\n",
       "    }\n",
       "\n",
       "    .dataframe thead th {\n",
       "        text-align: right;\n",
       "    }\n",
       "</style>\n",
       "<table border=\"1\" class=\"dataframe\">\n",
       "  <thead>\n",
       "    <tr style=\"text-align: right;\">\n",
       "      <th></th>\n",
       "      <th>sector</th>\n",
       "      <th>age</th>\n",
       "    </tr>\n",
       "  </thead>\n",
       "  <tbody>\n",
       "    <tr>\n",
       "      <th>0</th>\n",
       "      <td>Administration publique</td>\n",
       "      <td>38.80</td>\n",
       "    </tr>\n",
       "    <tr>\n",
       "      <th>1</th>\n",
       "      <td>Industries extractives</td>\n",
       "      <td>27.91</td>\n",
       "    </tr>\n",
       "    <tr>\n",
       "      <th>2</th>\n",
       "      <td>Activités extra-territoriales</td>\n",
       "      <td>27.49</td>\n",
       "    </tr>\n",
       "    <tr>\n",
       "      <th>3</th>\n",
       "      <td>Agriculture, sylviculture et pêche</td>\n",
       "      <td>18.33</td>\n",
       "    </tr>\n",
       "    <tr>\n",
       "      <th>4</th>\n",
       "      <td>Prod. et distr. d'eau; assainissement, gestion...</td>\n",
       "      <td>15.10</td>\n",
       "    </tr>\n",
       "    <tr>\n",
       "      <th>5</th>\n",
       "      <td>Activités immobilières</td>\n",
       "      <td>14.15</td>\n",
       "    </tr>\n",
       "    <tr>\n",
       "      <th>6</th>\n",
       "      <td>Santé humaine et action sociale</td>\n",
       "      <td>14.09</td>\n",
       "    </tr>\n",
       "    <tr>\n",
       "      <th>7</th>\n",
       "      <td>Commerce; réparation de véhicules auto. et de ...</td>\n",
       "      <td>13.48</td>\n",
       "    </tr>\n",
       "    <tr>\n",
       "      <th>8</th>\n",
       "      <td>Industrie manufacturière</td>\n",
       "      <td>12.92</td>\n",
       "    </tr>\n",
       "    <tr>\n",
       "      <th>9</th>\n",
       "      <td>Transports et entreposage</td>\n",
       "      <td>12.56</td>\n",
       "    </tr>\n",
       "    <tr>\n",
       "      <th>10</th>\n",
       "      <td>Autres activités de services</td>\n",
       "      <td>12.03</td>\n",
       "    </tr>\n",
       "    <tr>\n",
       "      <th>11</th>\n",
       "      <td>Activités financières et d'assurance</td>\n",
       "      <td>11.95</td>\n",
       "    </tr>\n",
       "    <tr>\n",
       "      <th>12</th>\n",
       "      <td>Hébergement et restauration</td>\n",
       "      <td>11.93</td>\n",
       "    </tr>\n",
       "    <tr>\n",
       "      <th>13</th>\n",
       "      <td>Arts, spectacles et activités récréatives</td>\n",
       "      <td>10.23</td>\n",
       "    </tr>\n",
       "    <tr>\n",
       "      <th>14</th>\n",
       "      <td>Activités spécialisées, scientifiques et techn...</td>\n",
       "      <td>10.18</td>\n",
       "    </tr>\n",
       "    <tr>\n",
       "      <th>15</th>\n",
       "      <td>Construction</td>\n",
       "      <td>10.05</td>\n",
       "    </tr>\n",
       "    <tr>\n",
       "      <th>16</th>\n",
       "      <td>Prod. et distr. d'électricité, de gaz, de vape...</td>\n",
       "      <td>9.69</td>\n",
       "    </tr>\n",
       "    <tr>\n",
       "      <th>17</th>\n",
       "      <td>Activités de services admin. et de soutien</td>\n",
       "      <td>9.02</td>\n",
       "    </tr>\n",
       "    <tr>\n",
       "      <th>18</th>\n",
       "      <td>Activités (A) des ménages (m) en tant qu'emplo...</td>\n",
       "      <td>8.44</td>\n",
       "    </tr>\n",
       "    <tr>\n",
       "      <th>19</th>\n",
       "      <td>Information et communication</td>\n",
       "      <td>8.32</td>\n",
       "    </tr>\n",
       "    <tr>\n",
       "      <th>20</th>\n",
       "      <td>Enseignement</td>\n",
       "      <td>7.47</td>\n",
       "    </tr>\n",
       "  </tbody>\n",
       "</table>\n",
       "</div>"
      ],
      "text/plain": [
       "                                               sector    age\n",
       "0                             Administration publique  38.80\n",
       "1                              Industries extractives  27.91\n",
       "2                       Activités extra-territoriales  27.49\n",
       "3                  Agriculture, sylviculture et pêche  18.33\n",
       "4   Prod. et distr. d'eau; assainissement, gestion...  15.10\n",
       "5                              Activités immobilières  14.15\n",
       "6                     Santé humaine et action sociale  14.09\n",
       "7   Commerce; réparation de véhicules auto. et de ...  13.48\n",
       "8                            Industrie manufacturière  12.92\n",
       "9                           Transports et entreposage  12.56\n",
       "10                       Autres activités de services  12.03\n",
       "11               Activités financières et d'assurance  11.95\n",
       "12                        Hébergement et restauration  11.93\n",
       "13          Arts, spectacles et activités récréatives  10.23\n",
       "14  Activités spécialisées, scientifiques et techn...  10.18\n",
       "15                                       Construction  10.05\n",
       "16  Prod. et distr. d'électricité, de gaz, de vape...   9.69\n",
       "17         Activités de services admin. et de soutien   9.02\n",
       "18  Activités (A) des ménages (m) en tant qu'emplo...   8.44\n",
       "19                       Information et communication   8.32\n",
       "20                                       Enseignement   7.47"
      ]
     },
     "execution_count": 64,
     "metadata": {},
     "output_type": "execute_result"
    }
   ],
   "source": [
    "#Create dictionnary from csv file\n",
    "df_Q4M2008.code_sector.astype(int)\n",
    "dict_M2008 = df_Q4M2008.set_index('code_sector').to_dict()['title_sector']\n",
    "#DO the mapping btw the df and the dictionary\n",
    "df_Q4T1[\"sector\"] = df_Q4T1[\"NaceCode\"].map(dict_M2008)\n",
    "#Create the new dataframe with grouping and average age per sector\n",
    "df_Q4T1 = df_Q4T1.groupby(\"sector\").agg({\"age\":\"mean\"}).round(2).sort_values('age', ascending=False).reset_index()\n",
    "df_Q4T1\n"
   ]
  },
  {
   "cell_type": "markdown",
   "metadata": {},
   "source": [
    "# GRAPHIC DESIGN"
   ]
  },
  {
   "cell_type": "markdown",
   "metadata": {},
   "source": [
    "### Q1 GRAPH"
   ]
  },
  {
   "cell_type": "code",
   "execution_count": 65,
   "metadata": {},
   "outputs": [
    {
     "data": {
      "text/plain": [
       "DeltaGenerator(_root_container=0, _provided_cursor=None, _parent=None, _block_type=None, _form_data=None)"
      ]
     },
     "execution_count": 65,
     "metadata": {},
     "output_type": "execute_result"
    }
   ],
   "source": [
    "# Pie chart, where the slices will be ordered and plotted counter-clockwise:\n",
    "fig1, ax1 = plt.subplots()\n",
    "ax1.pie(df_Q1T1['Total_Enterprise'], labels = df_Q1T1['Description'], autopct='%1.1f%%')\n",
    "st.pyplot(fig1)"
   ]
  },
  {
   "cell_type": "markdown",
   "metadata": {},
   "source": [
    "### Q2 GRAPH"
   ]
  },
  {
   "cell_type": "code",
   "execution_count": 66,
   "metadata": {},
   "outputs": [
    {
     "data": {
      "text/plain": [
       "DeltaGenerator(_root_container=0, _provided_cursor=None, _parent=None, _block_type=None, _form_data=None)"
      ]
     },
     "execution_count": 66,
     "metadata": {},
     "output_type": "execute_result"
    }
   ],
   "source": [
    "# #Display the number of active company\n",
    "st.markdown(f\"<h1 style='text-align: center; color: darkblue;'>ACTIVE ENTERPRISES :  </h1>\", unsafe_allow_html=True)\n",
    "st.markdown(f\"<h1 style='text-align: center; color: grey;'>{score_active_ent_prc}% ({score_active_ent})</h1>\", unsafe_allow_html=True)\n",
    "st.markdown(\"##\")"
   ]
  },
  {
   "cell_type": "markdown",
   "metadata": {},
   "source": [
    "### Q3 GRAPH"
   ]
  },
  {
   "cell_type": "code",
   "execution_count": 67,
   "metadata": {},
   "outputs": [
    {
     "data": {
      "text/plain": [
       "DeltaGenerator(_root_container=0, _provided_cursor=None, _parent=None, _block_type=None, _form_data=None)"
      ]
     },
     "execution_count": 67,
     "metadata": {},
     "output_type": "execute_result"
    }
   ],
   "source": [
    "# Pie chart, where the slices will be ordered and plotted counter-clockwise:\n",
    "labels = df_Q3[\"Description\"]\n",
    "sizes = df_Q3[\"count(EnterpriseNumber)\"]\n",
    "\n",
    "fig3, ax3 = plt.subplots()\n",
    "ax3.pie(sizes, labels=labels, autopct='%1.1f%%',\n",
    "        shadow=True, startangle=90)\n",
    "ax3.axis('equal')  # Equal aspect ratio ensures that pie is drawn as a circle.\n",
    "\n",
    "st.pyplot(fig3)"
   ]
  },
  {
   "cell_type": "markdown",
   "metadata": {},
   "source": [
    "### Q4 GRAPH"
   ]
  },
  {
   "cell_type": "code",
   "execution_count": 68,
   "metadata": {},
   "outputs": [
    {
     "name": "stderr",
     "output_type": "stream",
     "text": [
      "/var/folders/y9/x007ynb92t57yt7s517ct53w0000gn/T/ipykernel_42102/1766705321.py:4: UserWarning: FixedFormatter should only be used together with FixedLocator\n",
      "  ax.set_yticklabels(map(f, ax.get_yticklabels()))\n"
     ]
    },
    {
     "data": {
      "text/plain": [
       "DeltaGenerator(_root_container=0, _provided_cursor=None, _parent=None, _block_type=None, _form_data=None)"
      ]
     },
     "execution_count": 68,
     "metadata": {},
     "output_type": "execute_result"
    }
   ],
   "source": [
    "fig, ax = plt.subplots()\n",
    "ax.barh(df_Q4T1['sector'], df_Q4T1['age'])\n",
    "f = lambda x: textwrap.fill(x.get_text(), 75)\n",
    "ax.set_yticklabels(map(f, ax.get_yticklabels()))\n",
    "fig.set_size_inches(18.5, 15.5, forward=True)\n",
    "plt.title(\"average company's age in each sector\")\n",
    "plt.xlabel('Age in Years')\n",
    "# plt.style.use('ggplot')\n",
    "st.pyplot(fig)"
   ]
  },
  {
   "cell_type": "code",
   "execution_count": 82,
   "metadata": {},
   "outputs": [
    {
     "data": {
      "text/plain": [
       "0          0\n",
       "1          0\n",
       "2          0\n",
       "3          0\n",
       "4          0\n",
       "          ..\n",
       "2998239    0\n",
       "2998240    0\n",
       "2998241    0\n",
       "2998242    0\n",
       "2998243    0\n",
       "Name: NaceCode, Length: 2998244, dtype: int64"
      ]
     },
     "execution_count": 82,
     "metadata": {},
     "output_type": "execute_result"
    }
   ],
   "source": [
    "\n",
    "### QUESTION 4\n",
    "#SQL query + df creating\n",
    "\n",
    "def get_data_mapping():\n",
    "        return pd.read_csv(\"mapping_sector_2008.csv\")\n",
    "\n",
    "def get_data_enterprise_activity():\n",
    "        return pd.read_sql_query ('''\n",
    "                               SELECT EnterpriseNumber, StartDate, NaceCode\n",
    "                               FROM enterprise\n",
    "                               INNER JOIN activity ON enterprise.EnterpriseNumber = activity.EntityNumber\n",
    "                               WHERE NaceVersion==2008\n",
    "                               ''',connection)\n",
    "\n",
    "#DATA CLEANING : \n",
    "# First two digit extract\n",
    "df_Q4T1 = get_data_enterprise_activity()\n",
    "\n",
    "df_Q4T1[\"NaceCode\"] = int(str(df_Q4T1.NaceCode)[:2])\n",
    "df_Q4T1[\"NaceCode\"]\n"
   ]
  },
  {
   "cell_type": "code",
   "execution_count": null,
   "metadata": {},
   "outputs": [],
   "source": []
  }
 ],
 "metadata": {
  "kernelspec": {
   "display_name": "Python 3.10.8 ('ENV_DATAVIZ': venv)",
   "language": "python",
   "name": "python3"
  },
  "language_info": {
   "codemirror_mode": {
    "name": "ipython",
    "version": 3
   },
   "file_extension": ".py",
   "mimetype": "text/x-python",
   "name": "python",
   "nbconvert_exporter": "python",
   "pygments_lexer": "ipython3",
   "version": "3.10.8"
  },
  "orig_nbformat": 4,
  "vscode": {
   "interpreter": {
    "hash": "6b5cab350c52d88baf4e21cb1c9b1b3566bdd8c0d7206032f36fd8efa8ffdd02"
   }
  }
 },
 "nbformat": 4,
 "nbformat_minor": 2
}
