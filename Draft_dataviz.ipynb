{
 "cells": [
  {
   "cell_type": "markdown",
   "metadata": {},
   "source": [
    "# CONFIG"
   ]
  },
  {
   "cell_type": "code",
   "execution_count": 178,
   "metadata": {},
   "outputs": [],
   "source": [
    "import streamlit as st\n",
    "import sqlalchemy as db\n",
    "import sqlite3\n",
    "import pandas as pd\n",
    "import matplotlib.pyplot as plt\n",
    "import plotly.express as px\n",
    "import time"
   ]
  },
  {
   "cell_type": "markdown",
   "metadata": {},
   "source": [
    "# DATA STRUCTURING"
   ]
  },
  {
   "cell_type": "markdown",
   "metadata": {},
   "source": [
    "### Q1 DATA"
   ]
  },
  {
   "cell_type": "code",
   "execution_count": 179,
   "metadata": {},
   "outputs": [],
   "source": [
    "#connect to the SQL database\n",
    "connection = sqlite3.connect('bce.db')\n",
    "#query tables\n",
    "sql_query_Q1T1 = pd.read_sql_query ('''\n",
    "                                SELECT count(EnterpriseNumber) as Total_Enterprise, Description\n",
    "                                FROM enterprise\n",
    "                                INNER JOIN code ON enterprise.JuridicalForm = code.Code\n",
    "                                WHERE code.Language = 'FR' AND code.Category = 'JuridicalForm'\n",
    "                                Group by Description\n",
    "                                Order by count(EnterpriseNumber) DESC;\n",
    "                                ''', connection)\n",
    "\n",
    "#Create a dataframe 1 to prepare graph input\n",
    "df_Q1T1 = pd.DataFrame(sql_query_Q1T1, columns = ['Total_Enterprise', 'Description'])\n",
    "\n",
    "df_Q1T1_most_frequent = df_Q1T1.iloc[:6,:]\n",
    "data = [{'Description':'Autres','Total_Enterprise':df_Q1T1['Total_Enterprise'][6:].sum()}]\n",
    "data_df = pd.DataFrame(data)\n",
    "df_Q1T1 = pd.concat([df_Q1T1_most_frequent, data_df])"
   ]
  },
  {
   "cell_type": "markdown",
   "metadata": {},
   "source": [
    "### Q2 DATA"
   ]
  },
  {
   "cell_type": "code",
   "execution_count": 180,
   "metadata": {},
   "outputs": [
    {
     "name": "stdout",
     "output_type": "stream",
     "text": [
      "1863292\n"
     ]
    }
   ],
   "source": [
    "#query tables : Which percentage of the companies are under which Status?\n",
    "sql_query_Q2 = pd.read_sql_query ('''\n",
    "                               SELECT count(EnterpriseNumber), Status\n",
    "                               FROM enterprise\n",
    "                               ''', connection)\n",
    "\n",
    "#Create dataframe\n",
    "df_Q2 = pd.DataFrame(sql_query_Q2)\n",
    "score_active_ent = df_Q2.iat[0,0]\n",
    "print(str(score_active_ent))\n"
   ]
  },
  {
   "cell_type": "markdown",
   "metadata": {},
   "source": [
    "### Q3 DATA"
   ]
  },
  {
   "cell_type": "code",
   "execution_count": 181,
   "metadata": {},
   "outputs": [
    {
     "data": {
      "text/html": [
       "<div>\n",
       "<style scoped>\n",
       "    .dataframe tbody tr th:only-of-type {\n",
       "        vertical-align: middle;\n",
       "    }\n",
       "\n",
       "    .dataframe tbody tr th {\n",
       "        vertical-align: top;\n",
       "    }\n",
       "\n",
       "    .dataframe thead th {\n",
       "        text-align: right;\n",
       "    }\n",
       "</style>\n",
       "<table border=\"1\" class=\"dataframe\">\n",
       "  <thead>\n",
       "    <tr style=\"text-align: right;\">\n",
       "      <th></th>\n",
       "      <th>count(EnterpriseNumber)</th>\n",
       "      <th>Description</th>\n",
       "    </tr>\n",
       "  </thead>\n",
       "  <tbody>\n",
       "    <tr>\n",
       "      <th>0</th>\n",
       "      <td>763643</td>\n",
       "      <td>Personne physique</td>\n",
       "    </tr>\n",
       "    <tr>\n",
       "      <th>1</th>\n",
       "      <td>1099649</td>\n",
       "      <td>Personne morale</td>\n",
       "    </tr>\n",
       "  </tbody>\n",
       "</table>\n",
       "</div>"
      ],
      "text/plain": [
       "   count(EnterpriseNumber)        Description\n",
       "0                   763643  Personne physique\n",
       "1                  1099649    Personne morale"
      ]
     },
     "execution_count": 181,
     "metadata": {},
     "output_type": "execute_result"
    }
   ],
   "source": [
    "#query tables : Which percentage of the companies are which type of entreprise?\n",
    "sql_query_Q3T1 = pd.read_sql_query ('''\n",
    "                               SELECT count(EnterpriseNumber), TypeOfEnterprise\n",
    "                               FROM enterprise\n",
    "                               Group by TypeOfEnterprise\n",
    "                               ''', connection)\n",
    "\n",
    "sql_query_Q3T2 = pd.read_sql_query ('''\n",
    "                               SELECT *\n",
    "                               FROM code\n",
    "                               WHERE Language==\"FR\" AND Category==\"TypeOfEnterprise\"\n",
    "                               ''', connection)\n",
    "\n",
    "df_Q3T1 = pd.DataFrame(sql_query_Q3T1)\n",
    "df_Q3T1.rename(columns = {'TypeOfEnterprise':'Code'}, inplace = True)\n",
    "df_Q3T2 = pd.DataFrame(sql_query_Q3T2)\n",
    "df_Q3 = pd.merge(df_Q3T1, df_Q3T2, on='Code')\n",
    "df_Q3 = df_Q3[[\"count(EnterpriseNumber)\", \"Description\"]]\n",
    "df_Q3\n"
   ]
  },
  {
   "cell_type": "markdown",
   "metadata": {},
   "source": [
    "### Q4 DATA"
   ]
  },
  {
   "cell_type": "code",
   "execution_count": 188,
   "metadata": {},
   "outputs": [
    {
     "data": {
      "text/plain": [
       "NaceVersion\n",
       "2003     20804\n",
       "2008    498296\n",
       "Name: EntityNumber, dtype: int64"
      ]
     },
     "execution_count": 188,
     "metadata": {},
     "output_type": "execute_result"
    }
   ],
   "source": [
    "#ANALYSIS - Whether or not using NACE 2003?\n",
    "sql_query_Q4 = pd.read_sql_query ('''\n",
    "                               SELECT EntityNumber, NaceVersion\n",
    "                               FROM activity\n",
    "                               ''', connection)\n",
    "\n",
    "df_Q4 = pd.DataFrame(sql_query_Q4)\n",
    "# df_Q4[\"EntityNumber\"]=df_Q4[\"EntityNumber\"].drop_duplicates(keep:False)\n",
    "df_Q4 = df_Q4.drop_duplicates(subset=[\"EntityNumber\"], keep=False)\n",
    "df_Q4 = df_Q4.groupby([\"NaceVersion\"])[\"EntityNumber\"].count()\n",
    "df_Q4\n"
   ]
  },
  {
   "cell_type": "code",
   "execution_count": 202,
   "metadata": {},
   "outputs": [
    {
     "data": {
      "text/html": [
       "<div>\n",
       "<style scoped>\n",
       "    .dataframe tbody tr th:only-of-type {\n",
       "        vertical-align: middle;\n",
       "    }\n",
       "\n",
       "    .dataframe tbody tr th {\n",
       "        vertical-align: top;\n",
       "    }\n",
       "\n",
       "    .dataframe thead th {\n",
       "        text-align: right;\n",
       "    }\n",
       "</style>\n",
       "<table border=\"1\" class=\"dataframe\">\n",
       "  <thead>\n",
       "    <tr style=\"text-align: right;\">\n",
       "      <th></th>\n",
       "      <th>EnterpriseNumber</th>\n",
       "      <th>StartDate</th>\n",
       "      <th>NaceCode</th>\n",
       "    </tr>\n",
       "  </thead>\n",
       "  <tbody>\n",
       "    <tr>\n",
       "      <th>0</th>\n",
       "      <td>0200.065.765</td>\n",
       "      <td>19600809</td>\n",
       "      <td>84</td>\n",
       "    </tr>\n",
       "    <tr>\n",
       "      <th>1</th>\n",
       "      <td>0200.065.765</td>\n",
       "      <td>19600809</td>\n",
       "      <td>41</td>\n",
       "    </tr>\n",
       "    <tr>\n",
       "      <th>2</th>\n",
       "      <td>0200.068.636</td>\n",
       "      <td>19230216</td>\n",
       "      <td>36</td>\n",
       "    </tr>\n",
       "    <tr>\n",
       "      <th>3</th>\n",
       "      <td>0200.068.636</td>\n",
       "      <td>19230216</td>\n",
       "      <td>36</td>\n",
       "    </tr>\n",
       "    <tr>\n",
       "      <th>4</th>\n",
       "      <td>0200.068.636</td>\n",
       "      <td>19230216</td>\n",
       "      <td>93</td>\n",
       "    </tr>\n",
       "    <tr>\n",
       "      <th>...</th>\n",
       "      <td>...</td>\n",
       "      <td>...</td>\n",
       "      <td>...</td>\n",
       "    </tr>\n",
       "    <tr>\n",
       "      <th>2998239</th>\n",
       "      <td>0998.534.826</td>\n",
       "      <td>19980101</td>\n",
       "      <td>63</td>\n",
       "    </tr>\n",
       "    <tr>\n",
       "      <th>2998240</th>\n",
       "      <td>0998.549.771</td>\n",
       "      <td>18000101</td>\n",
       "      <td>35</td>\n",
       "    </tr>\n",
       "    <tr>\n",
       "      <th>2998241</th>\n",
       "      <td>0998.562.738</td>\n",
       "      <td>19990331</td>\n",
       "      <td>62</td>\n",
       "    </tr>\n",
       "    <tr>\n",
       "      <th>2998242</th>\n",
       "      <td>0998.576.495</td>\n",
       "      <td>20001231</td>\n",
       "      <td>82</td>\n",
       "    </tr>\n",
       "    <tr>\n",
       "      <th>2998243</th>\n",
       "      <td>0998.605.201</td>\n",
       "      <td>20011231</td>\n",
       "      <td>63</td>\n",
       "    </tr>\n",
       "  </tbody>\n",
       "</table>\n",
       "<p>2998244 rows × 3 columns</p>\n",
       "</div>"
      ],
      "text/plain": [
       "        EnterpriseNumber StartDate  NaceCode\n",
       "0           0200.065.765  19600809        84\n",
       "1           0200.065.765  19600809        41\n",
       "2           0200.068.636  19230216        36\n",
       "3           0200.068.636  19230216        36\n",
       "4           0200.068.636  19230216        93\n",
       "...                  ...       ...       ...\n",
       "2998239     0998.534.826  19980101        63\n",
       "2998240     0998.549.771  18000101        35\n",
       "2998241     0998.562.738  19990331        62\n",
       "2998242     0998.576.495  20001231        82\n",
       "2998243     0998.605.201  20011231        63\n",
       "\n",
       "[2998244 rows x 3 columns]"
      ]
     },
     "execution_count": 202,
     "metadata": {},
     "output_type": "execute_result"
    }
   ],
   "source": [
    "df_Q4M2008 = pd.read_csv(\"mapping_sector_2008.csv\")\n",
    "sql_query_Q4T1 = pd.read_sql_query ('''\n",
    "                               SELECT EnterpriseNumber, StartDate, NaceCode\n",
    "                               FROM enterprise\n",
    "                               INNER JOIN activity ON enterprise.EnterpriseNumber = activity.EntityNumber\n",
    "                               WHERE NaceVersion==2008\n",
    "                               ''',connection)\n",
    "\n",
    "df_Q4T1 = pd.DataFrame(sql_query_Q4T1)\n",
    "df_Q4T1[\"NaceCode\"] = df_Q4T1.NaceCode.str[:2].astype(int)\n",
    "df_Q4T1[\"StartDate\"] = df_Q4T1.StartDate.str[:10].replace('-','', regex=True)\n",
    "#df['API'] = df['API'].str.replace('-','')\n",
    "df_Q4T1"
   ]
  },
  {
   "cell_type": "markdown",
   "metadata": {},
   "source": [
    "# GRAPHIC DESIGN"
   ]
  },
  {
   "cell_type": "markdown",
   "metadata": {},
   "source": [
    "### Q1 GRAPH"
   ]
  },
  {
   "cell_type": "code",
   "execution_count": 185,
   "metadata": {},
   "outputs": [
    {
     "data": {
      "text/plain": [
       "DeltaGenerator(_root_container=0, _provided_cursor=None, _parent=None, _block_type=None, _form_data=None)"
      ]
     },
     "execution_count": 185,
     "metadata": {},
     "output_type": "execute_result"
    }
   ],
   "source": [
    "# Pie chart, where the slices will be ordered and plotted counter-clockwise:\n",
    "fig1, ax1 = plt.subplots()\n",
    "ax1.pie(df_Q1T1['Total_Enterprise'], labels = df_Q1T1['Description'], autopct='%1.1f%%')\n",
    "st.pyplot(fig1)"
   ]
  },
  {
   "cell_type": "markdown",
   "metadata": {},
   "source": [
    "### Q2 GRAPH"
   ]
  },
  {
   "cell_type": "code",
   "execution_count": 183,
   "metadata": {},
   "outputs": [
    {
     "data": {
      "text/plain": [
       "DeltaGenerator(_root_container=0, _provided_cursor=None, _parent=None, _block_type=None, _form_data=None)"
      ]
     },
     "execution_count": 183,
     "metadata": {},
     "output_type": "execute_result"
    }
   ],
   "source": [
    "#Display the number of active company\n",
    "st.markdown(f\"<h1 style='text-align: center; color: black;'>The number of active enterprise is :  </h1>\", unsafe_allow_html=True)\n",
    "st.markdown(f\"<h1 style='text-align: center; color: grey;'>{score_active_ent} </h1>\", unsafe_allow_html=True)"
   ]
  },
  {
   "cell_type": "markdown",
   "metadata": {},
   "source": [
    "### Q3 GRAPH"
   ]
  },
  {
   "cell_type": "code",
   "execution_count": 184,
   "metadata": {},
   "outputs": [
    {
     "data": {
      "text/plain": [
       "DeltaGenerator(_root_container=0, _provided_cursor=None, _parent=None, _block_type=None, _form_data=None)"
      ]
     },
     "execution_count": 184,
     "metadata": {},
     "output_type": "execute_result"
    }
   ],
   "source": [
    "# Pie chart, where the slices will be ordered and plotted counter-clockwise:\n",
    "labels = df_Q3[\"Description\"]\n",
    "sizes = df_Q3[\"count(EnterpriseNumber)\"]\n",
    "\n",
    "fig3, ax3 = plt.subplots()\n",
    "ax3.pie(sizes, labels=labels, autopct='%1.1f%%',\n",
    "        shadow=True, startangle=90)\n",
    "ax3.axis('equal')  # Equal aspect ratio ensures that pie is drawn as a circle.\n",
    "\n",
    "st.pyplot(fig3)"
   ]
  }
 ],
 "metadata": {
  "kernelspec": {
   "display_name": "Python 3.10.8 ('ENV_DATAVIZ': venv)",
   "language": "python",
   "name": "python3"
  },
  "language_info": {
   "codemirror_mode": {
    "name": "ipython",
    "version": 3
   },
   "file_extension": ".py",
   "mimetype": "text/x-python",
   "name": "python",
   "nbconvert_exporter": "python",
   "pygments_lexer": "ipython3",
   "version": "3.10.8"
  },
  "orig_nbformat": 4,
  "vscode": {
   "interpreter": {
    "hash": "6b5cab350c52d88baf4e21cb1c9b1b3566bdd8c0d7206032f36fd8efa8ffdd02"
   }
  }
 },
 "nbformat": 4,
 "nbformat_minor": 2
}
