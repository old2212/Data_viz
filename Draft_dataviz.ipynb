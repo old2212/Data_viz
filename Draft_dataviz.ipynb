{
 "cells": [
  {
   "cell_type": "markdown",
   "metadata": {},
   "source": [
    "# CONFIG"
   ]
  },
  {
   "cell_type": "code",
   "execution_count": 59,
   "metadata": {},
   "outputs": [],
   "source": [
    "import streamlit as st\n",
    "import sqlalchemy as db\n",
    "import sqlite3\n",
    "import pandas as pd\n",
    "import matplotlib.pyplot as plt\n",
    "import plotly.express as px"
   ]
  },
  {
   "cell_type": "markdown",
   "metadata": {},
   "source": [
    "# DATA STRUCTURING"
   ]
  },
  {
   "cell_type": "markdown",
   "metadata": {},
   "source": [
    "### Q1 DATA"
   ]
  },
  {
   "cell_type": "code",
   "execution_count": 79,
   "metadata": {},
   "outputs": [
    {
     "data": {
      "text/html": [
       "<div>\n",
       "<style scoped>\n",
       "    .dataframe tbody tr th:only-of-type {\n",
       "        vertical-align: middle;\n",
       "    }\n",
       "\n",
       "    .dataframe tbody tr th {\n",
       "        vertical-align: top;\n",
       "    }\n",
       "\n",
       "    .dataframe thead th {\n",
       "        text-align: right;\n",
       "    }\n",
       "</style>\n",
       "<table border=\"1\" class=\"dataframe\">\n",
       "  <thead>\n",
       "    <tr style=\"text-align: right;\">\n",
       "      <th></th>\n",
       "      <th>Description</th>\n",
       "      <th>percent</th>\n",
       "    </tr>\n",
       "  </thead>\n",
       "  <tbody>\n",
       "    <tr>\n",
       "      <th>0</th>\n",
       "      <td>Association prestataire de services (Région fl...</td>\n",
       "      <td>0.002364</td>\n",
       "    </tr>\n",
       "    <tr>\n",
       "      <th>26</th>\n",
       "      <td>Association chargée de mission (Région flamande)</td>\n",
       "      <td>0.005093</td>\n",
       "    </tr>\n",
       "    <tr>\n",
       "      <th>82</th>\n",
       "      <td>Société coopérative de droit public (ancien st...</td>\n",
       "      <td>0.003547</td>\n",
       "    </tr>\n",
       "    <tr>\n",
       "      <th>121</th>\n",
       "      <td>Société coopérative</td>\n",
       "      <td>0.061656</td>\n",
       "    </tr>\n",
       "    <tr>\n",
       "      <th>799</th>\n",
       "      <td>Société coopérative à responsabilité limitée</td>\n",
       "      <td>1.135544</td>\n",
       "    </tr>\n",
       "    <tr>\n",
       "      <th>...</th>\n",
       "      <td>...</td>\n",
       "      <td>...</td>\n",
       "    </tr>\n",
       "    <tr>\n",
       "      <th>1099547</th>\n",
       "      <td>Service public fédéral de programmation</td>\n",
       "      <td>0.000182</td>\n",
       "    </tr>\n",
       "    <tr>\n",
       "      <th>1099549</th>\n",
       "      <td>Institution sans but lucratif</td>\n",
       "      <td>0.000182</td>\n",
       "    </tr>\n",
       "    <tr>\n",
       "      <th>1099551</th>\n",
       "      <td>Fondation politique européenne</td>\n",
       "      <td>0.000455</td>\n",
       "    </tr>\n",
       "    <tr>\n",
       "      <th>1099556</th>\n",
       "      <td>Entité étrangère avec un bien immobilier en Be...</td>\n",
       "      <td>0.006729</td>\n",
       "    </tr>\n",
       "    <tr>\n",
       "      <th>1099630</th>\n",
       "      <td>Organisme immatriculé pour l'Administration de...</td>\n",
       "      <td>0.001728</td>\n",
       "    </tr>\n",
       "  </tbody>\n",
       "</table>\n",
       "<p>106 rows × 2 columns</p>\n",
       "</div>"
      ],
      "text/plain": [
       "                                               Description   percent\n",
       "0        Association prestataire de services (Région fl...  0.002364\n",
       "26        Association chargée de mission (Région flamande)  0.005093\n",
       "82       Société coopérative de droit public (ancien st...  0.003547\n",
       "121                                    Société coopérative  0.061656\n",
       "799           Société coopérative à responsabilité limitée  1.135544\n",
       "...                                                    ...       ...\n",
       "1099547            Service public fédéral de programmation  0.000182\n",
       "1099549                      Institution sans but lucratif  0.000182\n",
       "1099551                     Fondation politique européenne  0.000455\n",
       "1099556  Entité étrangère avec un bien immobilier en Be...  0.006729\n",
       "1099630  Organisme immatriculé pour l'Administration de...  0.001728\n",
       "\n",
       "[106 rows x 2 columns]"
      ]
     },
     "execution_count": 79,
     "metadata": {},
     "output_type": "execute_result"
    }
   ],
   "source": [
    "#connect to the SQL database\n",
    "connection = sqlite3.connect('bce.db')\n",
    "\n",
    "#query tables\n",
    "sql_query_Q1T1 = pd.read_sql_query ('''\n",
    "                               SELECT\n",
    "                               *\n",
    "                               FROM enterprise\n",
    "                               ''', connection)\n",
    "\n",
    "#Create a dataframe 1 to prepare graph input\n",
    "df_Q1T1 = pd.DataFrame(sql_query_Q1T1, columns = ['EnterpriseNumber', 'JuridicalForm'])\n",
    "#query table 2\n",
    "sql_query_Q1T2 = pd.read_sql_query ('''\n",
    "                               SELECT\n",
    "                               *\n",
    "                               FROM code\n",
    "                               ''', connection)\n",
    "\n",
    "#Create a dataframe 2 to prepare graph input\n",
    "df_Q1T2 = pd.DataFrame(sql_query_Q1T2)\n",
    "df_Q1T2 = df_Q1T2[df_Q1T2.Language.eq(\"FR\")]\n",
    "df_Q1T2 = df_Q1T2[df_Q1T2[\"Category\"]==\"JuridicalForm\"]\n",
    "df_Q1T2.rename(columns = {'Code':'JuridicalForm'}, inplace = True)\n",
    "\n",
    "#Merge two table and create % \n",
    "df_Q1 = pd.merge(df_Q1T1, df_Q1T2, on='JuridicalForm')\n",
    "df_Q1 = df_Q1[[\"Description\"]]\n",
    "df_Q1[\"Count\"]= df_Q1.groupby(\"Description\")[\"Description\"].transform(\"count\")\n",
    "df_Q1 = df_Q1.drop_duplicates()\n",
    "df_Q1['percent'] = (df_Q1['Count'] / df_Q1['Count'].sum()) * 100\n",
    "df_Q1 = df_Q1[[\"Description\", \"percent\"]]\n",
    "df_Q1"
   ]
  },
  {
   "cell_type": "markdown",
   "metadata": {},
   "source": [
    "### Q2 DATA"
   ]
  },
  {
   "cell_type": "code",
   "execution_count": 100,
   "metadata": {},
   "outputs": [
    {
     "name": "stdout",
     "output_type": "stream",
     "text": [
      "1863292\n"
     ]
    }
   ],
   "source": [
    "#query tables : Which percentage of the companies are under which Status?\n",
    "sql_query_Q2 = pd.read_sql_query ('''\n",
    "                               SELECT count(EnterpriseNumber), Status\n",
    "                               FROM enterprise\n",
    "                               ''', connection)\n",
    "\n",
    "#Create dataframe\n",
    "df_Q2 = pd.DataFrame(sql_query_Q2)\n",
    "score_active_ent = df_Q2.iat[0,0]\n",
    "print(str(score_active_ent))\n"
   ]
  },
  {
   "cell_type": "markdown",
   "metadata": {},
   "source": [
    "# GRAPHIC DESIGN"
   ]
  },
  {
   "cell_type": "markdown",
   "metadata": {},
   "source": [
    "### Q1 GRAPH"
   ]
  },
  {
   "cell_type": "code",
   "execution_count": 63,
   "metadata": {},
   "outputs": [
    {
     "data": {
      "text/plain": [
       "DeltaGenerator(_root_container=0, _provided_cursor=None, _parent=None, _block_type=None, _form_data=None)"
      ]
     },
     "execution_count": 63,
     "metadata": {},
     "output_type": "execute_result"
    }
   ],
   "source": [
    "# Pie chart, where the slices will be ordered and plotted counter-clockwise:\n",
    "labels = df_Q1[\"Description\"]\n",
    "sizes = df_Q1[\"percent\"]\n",
    "\n",
    "fig1, ax1 = plt.subplots()\n",
    "ax1.pie(sizes, labels=labels, autopct='%1.1f%%',\n",
    "        shadow=True, startangle=90)\n",
    "ax1.axis('equal')  # Equal aspect ratio ensures that pie is drawn as a circle.\n",
    "\n",
    "st.pyplot(fig1)"
   ]
  },
  {
   "cell_type": "markdown",
   "metadata": {},
   "source": [
    "### Q2 GRAPH"
   ]
  },
  {
   "cell_type": "code",
   "execution_count": 92,
   "metadata": {},
   "outputs": [],
   "source": [
    "#Display the number of active company\n",
    "st.markdown(f\"<h1 style='text-align: center; color: black;'>The number of active enterprise is :  </h1>\", unsafe_allow_html=True)\n",
    "st.markdown(f\"<h1 style='text-align: center; color: grey;'>{score_active_ent} </h1>\", unsafe_allow_html=True)"
   ]
  },
  {
   "cell_type": "code",
   "execution_count": null,
   "metadata": {},
   "outputs": [],
   "source": []
  }
 ],
 "metadata": {
  "kernelspec": {
   "display_name": "Python 3.10.8 ('ENV_DATAVIZ': venv)",
   "language": "python",
   "name": "python3"
  },
  "language_info": {
   "codemirror_mode": {
    "name": "ipython",
    "version": 3
   },
   "file_extension": ".py",
   "mimetype": "text/x-python",
   "name": "python",
   "nbconvert_exporter": "python",
   "pygments_lexer": "ipython3",
   "version": "3.10.8"
  },
  "orig_nbformat": 4,
  "vscode": {
   "interpreter": {
    "hash": "6b5cab350c52d88baf4e21cb1c9b1b3566bdd8c0d7206032f36fd8efa8ffdd02"
   }
  }
 },
 "nbformat": 4,
 "nbformat_minor": 2
}
