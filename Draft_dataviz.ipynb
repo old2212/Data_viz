{
 "cells": [
  {
   "cell_type": "markdown",
   "metadata": {},
   "source": [
    "# CONFIG"
   ]
  },
  {
   "cell_type": "code",
   "execution_count": 50,
   "metadata": {},
   "outputs": [],
   "source": [
    "import streamlit as st\n",
    "import sqlalchemy as db\n",
    "import sqlite3\n",
    "import pandas as pd\n",
    "import matplotlib.pyplot as plt\n",
    "import plotly.express as px"
   ]
  },
  {
   "cell_type": "code",
   "execution_count": 51,
   "metadata": {},
   "outputs": [
    {
     "name": "stdout",
     "output_type": "stream",
     "text": [
      "        EnterpriseNumber JuridicalForm\n",
      "0           0200.065.765           416\n",
      "1           0200.068.636           417\n",
      "2           0200.171.970           116\n",
      "3           0200.245.711           116\n",
      "4           0200.305.493           416\n",
      "...                  ...           ...\n",
      "1863287     0998.603.518           230\n",
      "1863288     0998.603.617           230\n",
      "1863289     0998.604.211           230\n",
      "1863290     0998.604.607           230\n",
      "1863291     0998.605.201           230\n",
      "\n",
      "[1863292 rows x 2 columns]\n"
     ]
    }
   ],
   "source": [
    "#connect to the SQL database\n",
    "connection = sqlite3.connect('bce.db')\n",
    "\n",
    "#query tables\n",
    "sql_query_Q1T1 = pd.read_sql_query ('''\n",
    "                               SELECT\n",
    "                               *\n",
    "                               FROM enterprise\n",
    "                               ''', connection)\n",
    "\n",
    "#Create a dataframe 1 to prepare graph input\n",
    "df_Q1T1 = pd.DataFrame(sql_query_Q1T1, columns = ['EnterpriseNumber', 'JuridicalForm'])\n",
    "print (df_Q1T1)"
   ]
  },
  {
   "cell_type": "code",
   "execution_count": 52,
   "metadata": {},
   "outputs": [
    {
     "data": {
      "text/html": [
       "<div>\n",
       "<style scoped>\n",
       "    .dataframe tbody tr th:only-of-type {\n",
       "        vertical-align: middle;\n",
       "    }\n",
       "\n",
       "    .dataframe tbody tr th {\n",
       "        vertical-align: top;\n",
       "    }\n",
       "\n",
       "    .dataframe thead th {\n",
       "        text-align: right;\n",
       "    }\n",
       "</style>\n",
       "<table border=\"1\" class=\"dataframe\">\n",
       "  <thead>\n",
       "    <tr style=\"text-align: right;\">\n",
       "      <th></th>\n",
       "      <th>Category</th>\n",
       "      <th>JuridicalForm</th>\n",
       "      <th>Language</th>\n",
       "      <th>Description</th>\n",
       "    </tr>\n",
       "  </thead>\n",
       "  <tbody>\n",
       "    <tr>\n",
       "      <th>33</th>\n",
       "      <td>JuridicalForm</td>\n",
       "      <td>001</td>\n",
       "      <td>FR</td>\n",
       "      <td>Société coopérative européenne</td>\n",
       "    </tr>\n",
       "    <tr>\n",
       "      <th>36</th>\n",
       "      <td>JuridicalForm</td>\n",
       "      <td>002</td>\n",
       "      <td>FR</td>\n",
       "      <td>Organisme de financement de pensions</td>\n",
       "    </tr>\n",
       "    <tr>\n",
       "      <th>39</th>\n",
       "      <td>JuridicalForm</td>\n",
       "      <td>003</td>\n",
       "      <td>FR</td>\n",
       "      <td>Unité TVA</td>\n",
       "    </tr>\n",
       "    <tr>\n",
       "      <th>42</th>\n",
       "      <td>JuridicalForm</td>\n",
       "      <td>006</td>\n",
       "      <td>FR</td>\n",
       "      <td>Société coopérative à responsabilité illimitée</td>\n",
       "    </tr>\n",
       "    <tr>\n",
       "      <th>45</th>\n",
       "      <td>JuridicalForm</td>\n",
       "      <td>007</td>\n",
       "      <td>FR</td>\n",
       "      <td>Société coopérative à responsabilité illimitée...</td>\n",
       "    </tr>\n",
       "    <tr>\n",
       "      <th>...</th>\n",
       "      <td>...</td>\n",
       "      <td>...</td>\n",
       "      <td>...</td>\n",
       "      <td>...</td>\n",
       "    </tr>\n",
       "    <tr>\n",
       "      <th>456</th>\n",
       "      <td>JuridicalForm</td>\n",
       "      <td>722</td>\n",
       "      <td>FR</td>\n",
       "      <td>Association momentanée</td>\n",
       "    </tr>\n",
       "    <tr>\n",
       "      <th>459</th>\n",
       "      <td>JuridicalForm</td>\n",
       "      <td>723</td>\n",
       "      <td>FR</td>\n",
       "      <td>Association de frais</td>\n",
       "    </tr>\n",
       "    <tr>\n",
       "      <th>462</th>\n",
       "      <td>JuridicalForm</td>\n",
       "      <td>724</td>\n",
       "      <td>FR</td>\n",
       "      <td>Syndicat</td>\n",
       "    </tr>\n",
       "    <tr>\n",
       "      <th>465</th>\n",
       "      <td>JuridicalForm</td>\n",
       "      <td>790</td>\n",
       "      <td>FR</td>\n",
       "      <td>Divers sans personnalité juridique</td>\n",
       "    </tr>\n",
       "    <tr>\n",
       "      <th>468</th>\n",
       "      <td>JuridicalForm</td>\n",
       "      <td>999</td>\n",
       "      <td>FR</td>\n",
       "      <td>Forme légale inconnue (ONSS)</td>\n",
       "    </tr>\n",
       "  </tbody>\n",
       "</table>\n",
       "<p>146 rows × 4 columns</p>\n",
       "</div>"
      ],
      "text/plain": [
       "          Category JuridicalForm Language  \\\n",
       "33   JuridicalForm           001       FR   \n",
       "36   JuridicalForm           002       FR   \n",
       "39   JuridicalForm           003       FR   \n",
       "42   JuridicalForm           006       FR   \n",
       "45   JuridicalForm           007       FR   \n",
       "..             ...           ...      ...   \n",
       "456  JuridicalForm           722       FR   \n",
       "459  JuridicalForm           723       FR   \n",
       "462  JuridicalForm           724       FR   \n",
       "465  JuridicalForm           790       FR   \n",
       "468  JuridicalForm           999       FR   \n",
       "\n",
       "                                           Description  \n",
       "33                      Société coopérative européenne  \n",
       "36                Organisme de financement de pensions  \n",
       "39                                           Unité TVA  \n",
       "42      Société coopérative à responsabilité illimitée  \n",
       "45   Société coopérative à responsabilité illimitée...  \n",
       "..                                                 ...  \n",
       "456                             Association momentanée  \n",
       "459                               Association de frais  \n",
       "462                                           Syndicat  \n",
       "465                 Divers sans personnalité juridique  \n",
       "468                       Forme légale inconnue (ONSS)  \n",
       "\n",
       "[146 rows x 4 columns]"
      ]
     },
     "execution_count": 52,
     "metadata": {},
     "output_type": "execute_result"
    }
   ],
   "source": [
    "#query table 2\n",
    "sql_query_Q1T2 = pd.read_sql_query ('''\n",
    "                               SELECT\n",
    "                               *\n",
    "                               FROM code\n",
    "                               ''', connection)\n",
    "\n",
    "#Create a dataframe 2 to prepare graph input\n",
    "df_Q1T2 = pd.DataFrame(sql_query_Q1T2)\n",
    "df_Q1T2 = df_Q1T2[df_Q1T2.Language.eq(\"FR\")]\n",
    "df_Q1T2 = df_Q1T2[df_Q1T2[\"Category\"]==\"JuridicalForm\"]\n",
    "df_Q1T2.rename(columns = {'Code':'JuridicalForm'}, inplace = True)\n",
    "df_Q1T2"
   ]
  },
  {
   "cell_type": "code",
   "execution_count": 53,
   "metadata": {},
   "outputs": [
    {
     "data": {
      "text/plain": [
       "0          Association prestataire de services (Région fl...\n",
       "1          Association prestataire de services (Région fl...\n",
       "2          Association prestataire de services (Région fl...\n",
       "3          Association prestataire de services (Région fl...\n",
       "4          Association prestataire de services (Région fl...\n",
       "                                 ...                        \n",
       "1099644    Organisme immatriculé pour l'Administration de...\n",
       "1099645    Organisme immatriculé pour l'Administration de...\n",
       "1099646    Organisme immatriculé pour l'Administration de...\n",
       "1099647    Organisme immatriculé pour l'Administration de...\n",
       "1099648    Organisme immatriculé pour l'Administration de...\n",
       "Name: Description, Length: 1099649, dtype: object"
      ]
     },
     "execution_count": 53,
     "metadata": {},
     "output_type": "execute_result"
    }
   ],
   "source": [
    "df_Q1 = pd.merge(df_Q1T1, df_Q1T2, on='JuridicalForm')\n",
    "df_Q1 = df_Q1[\"Description\"]\n",
    "df_Q1"
   ]
  },
  {
   "cell_type": "code",
   "execution_count": 57,
   "metadata": {},
   "outputs": [
    {
     "data": {
      "text/plain": [
       "DeltaGenerator(_root_container=0, _provided_cursor=None, _parent=None, _block_type=None, _form_data=None)"
      ]
     },
     "execution_count": 57,
     "metadata": {},
     "output_type": "execute_result"
    }
   ],
   "source": [
    "pie_chart = px.pie(df_Q1,\n",
    "                   title=\"Juridical Form\",\n",
    "                   values=\"Description\",\n",
    "                   names=\"Description\")\n",
    "\n",
    "Piechart_Jurid = st.plotly_chart(pie_chart)\n",
    "Piechart_Jurid"
   ]
  },
  {
   "cell_type": "code",
   "execution_count": null,
   "metadata": {},
   "outputs": [],
   "source": []
  }
 ],
 "metadata": {
  "kernelspec": {
   "display_name": "Python 3.10.8 ('ENV_DATAVIZ': venv)",
   "language": "python",
   "name": "python3"
  },
  "language_info": {
   "codemirror_mode": {
    "name": "ipython",
    "version": 3
   },
   "file_extension": ".py",
   "mimetype": "text/x-python",
   "name": "python",
   "nbconvert_exporter": "python",
   "pygments_lexer": "ipython3",
   "version": "3.10.8"
  },
  "orig_nbformat": 4,
  "vscode": {
   "interpreter": {
    "hash": "6b5cab350c52d88baf4e21cb1c9b1b3566bdd8c0d7206032f36fd8efa8ffdd02"
   }
  }
 },
 "nbformat": 4,
 "nbformat_minor": 2
}
