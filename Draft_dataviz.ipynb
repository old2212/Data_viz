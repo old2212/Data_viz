{
 "cells": [
  {
   "cell_type": "markdown",
   "metadata": {},
   "source": [
    "# CONFIG"
   ]
  },
  {
   "cell_type": "code",
   "execution_count": 178,
   "metadata": {},
   "outputs": [],
   "source": [
    "import streamlit as st\n",
    "import sqlalchemy as db\n",
    "import sqlite3\n",
    "import pandas as pd\n",
    "import matplotlib.pyplot as plt\n",
    "import plotly.express as px"
   ]
  },
  {
   "cell_type": "markdown",
   "metadata": {},
   "source": [
    "# DATA STRUCTURING"
   ]
  },
  {
   "cell_type": "markdown",
   "metadata": {},
   "source": [
    "### Q1 DATA"
   ]
  },
  {
   "cell_type": "code",
   "execution_count": 179,
   "metadata": {},
   "outputs": [],
   "source": [
    "#connect to the SQL database\n",
    "connection = sqlite3.connect('bce.db')\n",
    "#query tables\n",
    "sql_query_Q1T1 = pd.read_sql_query ('''\n",
    "                                SELECT count(EnterpriseNumber) as Total_Enterprise, Description\n",
    "                                FROM enterprise\n",
    "                                INNER JOIN code ON enterprise.JuridicalForm = code.Code\n",
    "                                WHERE code.Language = 'FR' AND code.Category = 'JuridicalForm'\n",
    "                                Group by Description\n",
    "                                Order by count(EnterpriseNumber) DESC;\n",
    "                                ''', connection)\n",
    "\n",
    "#Create a dataframe 1 to prepare graph input\n",
    "df_Q1T1 = pd.DataFrame(sql_query_Q1T1, columns = ['Total_Enterprise', 'Description'])\n",
    "\n",
    "df_Q1T1_most_frequent = df_Q1T1.iloc[:6,:]\n",
    "data = [{'Description':'Autres','Total_Enterprise':df_Q1T1['Total_Enterprise'][6:].sum()}]\n",
    "data_df = pd.DataFrame(data)\n",
    "df_Q1T1 = pd.concat([df_Q1T1_most_frequent, data_df])"
   ]
  },
  {
   "cell_type": "markdown",
   "metadata": {},
   "source": [
    "### Q2 DATA"
   ]
  },
  {
   "cell_type": "code",
   "execution_count": 180,
   "metadata": {},
   "outputs": [
    {
     "name": "stdout",
     "output_type": "stream",
     "text": [
      "1863292\n"
     ]
    }
   ],
   "source": [
    "#query tables : Which percentage of the companies are under which Status?\n",
    "sql_query_Q2 = pd.read_sql_query ('''\n",
    "                               SELECT count(EnterpriseNumber), Status\n",
    "                               FROM enterprise\n",
    "                               ''', connection)\n",
    "\n",
    "#Create dataframe\n",
    "df_Q2 = pd.DataFrame(sql_query_Q2)\n",
    "score_active_ent = df_Q2.iat[0,0]\n",
    "print(str(score_active_ent))\n"
   ]
  },
  {
   "cell_type": "markdown",
   "metadata": {},
   "source": [
    "### Q3 DATA"
   ]
  },
  {
   "cell_type": "code",
   "execution_count": 181,
   "metadata": {},
   "outputs": [
    {
     "data": {
      "text/html": [
       "<div>\n",
       "<style scoped>\n",
       "    .dataframe tbody tr th:only-of-type {\n",
       "        vertical-align: middle;\n",
       "    }\n",
       "\n",
       "    .dataframe tbody tr th {\n",
       "        vertical-align: top;\n",
       "    }\n",
       "\n",
       "    .dataframe thead th {\n",
       "        text-align: right;\n",
       "    }\n",
       "</style>\n",
       "<table border=\"1\" class=\"dataframe\">\n",
       "  <thead>\n",
       "    <tr style=\"text-align: right;\">\n",
       "      <th></th>\n",
       "      <th>count(EnterpriseNumber)</th>\n",
       "      <th>Description</th>\n",
       "    </tr>\n",
       "  </thead>\n",
       "  <tbody>\n",
       "    <tr>\n",
       "      <th>0</th>\n",
       "      <td>763643</td>\n",
       "      <td>Personne physique</td>\n",
       "    </tr>\n",
       "    <tr>\n",
       "      <th>1</th>\n",
       "      <td>1099649</td>\n",
       "      <td>Personne morale</td>\n",
       "    </tr>\n",
       "  </tbody>\n",
       "</table>\n",
       "</div>"
      ],
      "text/plain": [
       "   count(EnterpriseNumber)        Description\n",
       "0                   763643  Personne physique\n",
       "1                  1099649    Personne morale"
      ]
     },
     "execution_count": 181,
     "metadata": {},
     "output_type": "execute_result"
    }
   ],
   "source": [
    "#query tables : Which percentage of the companies are which type of entreprise?\n",
    "sql_query_Q3T1 = pd.read_sql_query ('''\n",
    "                               SELECT count(EnterpriseNumber), TypeOfEnterprise\n",
    "                               FROM enterprise\n",
    "                               Group by TypeOfEnterprise\n",
    "                               ''', connection)\n",
    "\n",
    "sql_query_Q3T2 = pd.read_sql_query ('''\n",
    "                               SELECT *\n",
    "                               FROM code\n",
    "                               WHERE Language==\"FR\" AND Category==\"TypeOfEnterprise\"\n",
    "                               ''', connection)\n",
    "\n",
    "df_Q3T1 = pd.DataFrame(sql_query_Q3T1)\n",
    "df_Q3T1.rename(columns = {'TypeOfEnterprise':'Code'}, inplace = True)\n",
    "df_Q3T2 = pd.DataFrame(sql_query_Q3T2)\n",
    "df_Q3 = pd.merge(df_Q3T1, df_Q3T2, on='Code')\n",
    "df_Q3 = df_Q3[[\"count(EnterpriseNumber)\", \"Description\"]]\n",
    "df_Q3\n"
   ]
  },
  {
   "cell_type": "markdown",
   "metadata": {},
   "source": [
    "# GRAPHIC DESIGN"
   ]
  },
  {
   "cell_type": "markdown",
   "metadata": {},
   "source": [
    "### Q1 GRAPH"
   ]
  },
  {
   "cell_type": "code",
   "execution_count": 185,
   "metadata": {},
   "outputs": [
    {
     "data": {
      "text/plain": [
       "DeltaGenerator(_root_container=0, _provided_cursor=None, _parent=None, _block_type=None, _form_data=None)"
      ]
     },
     "execution_count": 185,
     "metadata": {},
     "output_type": "execute_result"
    }
   ],
   "source": [
    "# Pie chart, where the slices will be ordered and plotted counter-clockwise:\n",
    "fig1, ax1 = plt.subplots()\n",
    "ax1.pie(df_Q1T1['Total_Enterprise'], labels = df_Q1T1['Description'], autopct='%1.1f%%')\n",
    "st.pyplot(fig1)"
   ]
  },
  {
   "cell_type": "markdown",
   "metadata": {},
   "source": [
    "### Q2 GRAPH"
   ]
  },
  {
   "cell_type": "code",
   "execution_count": 183,
   "metadata": {},
   "outputs": [
    {
     "data": {
      "text/plain": [
       "DeltaGenerator(_root_container=0, _provided_cursor=None, _parent=None, _block_type=None, _form_data=None)"
      ]
     },
     "execution_count": 183,
     "metadata": {},
     "output_type": "execute_result"
    }
   ],
   "source": [
    "#Display the number of active company\n",
    "st.markdown(f\"<h1 style='text-align: center; color: black;'>The number of active enterprise is :  </h1>\", unsafe_allow_html=True)\n",
    "st.markdown(f\"<h1 style='text-align: center; color: grey;'>{score_active_ent} </h1>\", unsafe_allow_html=True)"
   ]
  },
  {
   "cell_type": "markdown",
   "metadata": {},
   "source": [
    "### Q3 GRAPH"
   ]
  },
  {
   "cell_type": "code",
   "execution_count": 184,
   "metadata": {},
   "outputs": [
    {
     "data": {
      "text/plain": [
       "DeltaGenerator(_root_container=0, _provided_cursor=None, _parent=None, _block_type=None, _form_data=None)"
      ]
     },
     "execution_count": 184,
     "metadata": {},
     "output_type": "execute_result"
    }
   ],
   "source": [
    "# Pie chart, where the slices will be ordered and plotted counter-clockwise:\n",
    "labels = df_Q3[\"Description\"]\n",
    "sizes = df_Q3[\"count(EnterpriseNumber)\"]\n",
    "\n",
    "fig3, ax3 = plt.subplots()\n",
    "ax3.pie(sizes, labels=labels, autopct='%1.1f%%',\n",
    "        shadow=True, startangle=90)\n",
    "ax3.axis('equal')  # Equal aspect ratio ensures that pie is drawn as a circle.\n",
    "\n",
    "st.pyplot(fig3)"
   ]
  }
 ],
 "metadata": {
  "kernelspec": {
   "display_name": "Python 3.10.8 ('ENV_DATAVIZ': venv)",
   "language": "python",
   "name": "python3"
  },
  "language_info": {
   "codemirror_mode": {
    "name": "ipython",
    "version": 3
   },
   "file_extension": ".py",
   "mimetype": "text/x-python",
   "name": "python",
   "nbconvert_exporter": "python",
   "pygments_lexer": "ipython3",
   "version": "3.10.8"
  },
  "orig_nbformat": 4,
  "vscode": {
   "interpreter": {
    "hash": "6b5cab350c52d88baf4e21cb1c9b1b3566bdd8c0d7206032f36fd8efa8ffdd02"
   }
  }
 },
 "nbformat": 4,
 "nbformat_minor": 2
}
