{
 "cells": [
  {
   "cell_type": "markdown",
   "metadata": {},
   "source": [
    "# CONFIG"
   ]
  },
  {
   "cell_type": "code",
   "execution_count": 208,
   "metadata": {},
   "outputs": [],
   "source": [
    "import streamlit as st\n",
    "import sqlalchemy as db\n",
    "import sqlite3\n",
    "import pandas as pd\n",
    "import matplotlib.pyplot as plt\n",
    "import plotly.express as px\n",
    "import time\n",
    "from datetime import datetime"
   ]
  },
  {
   "cell_type": "markdown",
   "metadata": {},
   "source": [
    "# DATA STRUCTURING"
   ]
  },
  {
   "cell_type": "markdown",
   "metadata": {},
   "source": [
    "### Q1 DATA"
   ]
  },
  {
   "cell_type": "code",
   "execution_count": 209,
   "metadata": {},
   "outputs": [],
   "source": [
    "#connect to the SQL database\n",
    "connection = sqlite3.connect('bce.db')\n",
    "#query tables\n",
    "sql_query_Q1T1 = pd.read_sql_query ('''\n",
    "                                SELECT count(EnterpriseNumber) as Total_Enterprise, Description\n",
    "                                FROM enterprise\n",
    "                                INNER JOIN code ON enterprise.JuridicalForm = code.Code\n",
    "                                WHERE code.Language = 'FR' AND code.Category = 'JuridicalForm'\n",
    "                                Group by Description\n",
    "                                Order by count(EnterpriseNumber) DESC;\n",
    "                                ''', connection)\n",
    "\n",
    "#Create a dataframe 1 to prepare graph input\n",
    "df_Q1T1 = pd.DataFrame(sql_query_Q1T1, columns = ['Total_Enterprise', 'Description'])\n",
    "\n",
    "df_Q1T1_most_frequent = df_Q1T1.iloc[:6,:]\n",
    "data = [{'Description':'Autres','Total_Enterprise':df_Q1T1['Total_Enterprise'][6:].sum()}]\n",
    "data_df = pd.DataFrame(data)\n",
    "df_Q1T1 = pd.concat([df_Q1T1_most_frequent, data_df])"
   ]
  },
  {
   "cell_type": "markdown",
   "metadata": {},
   "source": [
    "### Q2 DATA"
   ]
  },
  {
   "cell_type": "code",
   "execution_count": 210,
   "metadata": {},
   "outputs": [
    {
     "name": "stdout",
     "output_type": "stream",
     "text": [
      "1863292\n"
     ]
    }
   ],
   "source": [
    "#query tables : Which percentage of the companies are under which Status?\n",
    "sql_query_Q2 = pd.read_sql_query ('''\n",
    "                               SELECT count(EnterpriseNumber), Status\n",
    "                               FROM enterprise\n",
    "                               ''', connection)\n",
    "\n",
    "#Create dataframe\n",
    "df_Q2 = pd.DataFrame(sql_query_Q2)\n",
    "score_active_ent = df_Q2.iat[0,0]\n",
    "print(str(score_active_ent))\n"
   ]
  },
  {
   "cell_type": "markdown",
   "metadata": {},
   "source": [
    "### Q3 DATA"
   ]
  },
  {
   "cell_type": "code",
   "execution_count": 211,
   "metadata": {},
   "outputs": [
    {
     "data": {
      "text/html": [
       "<div>\n",
       "<style scoped>\n",
       "    .dataframe tbody tr th:only-of-type {\n",
       "        vertical-align: middle;\n",
       "    }\n",
       "\n",
       "    .dataframe tbody tr th {\n",
       "        vertical-align: top;\n",
       "    }\n",
       "\n",
       "    .dataframe thead th {\n",
       "        text-align: right;\n",
       "    }\n",
       "</style>\n",
       "<table border=\"1\" class=\"dataframe\">\n",
       "  <thead>\n",
       "    <tr style=\"text-align: right;\">\n",
       "      <th></th>\n",
       "      <th>count(EnterpriseNumber)</th>\n",
       "      <th>Description</th>\n",
       "    </tr>\n",
       "  </thead>\n",
       "  <tbody>\n",
       "    <tr>\n",
       "      <th>0</th>\n",
       "      <td>763643</td>\n",
       "      <td>Personne physique</td>\n",
       "    </tr>\n",
       "    <tr>\n",
       "      <th>1</th>\n",
       "      <td>1099649</td>\n",
       "      <td>Personne morale</td>\n",
       "    </tr>\n",
       "  </tbody>\n",
       "</table>\n",
       "</div>"
      ],
      "text/plain": [
       "   count(EnterpriseNumber)        Description\n",
       "0                   763643  Personne physique\n",
       "1                  1099649    Personne morale"
      ]
     },
     "execution_count": 211,
     "metadata": {},
     "output_type": "execute_result"
    }
   ],
   "source": [
    "#query tables : Which percentage of the companies are which type of entreprise?\n",
    "sql_query_Q3T1 = pd.read_sql_query ('''\n",
    "                               SELECT count(EnterpriseNumber), TypeOfEnterprise\n",
    "                               FROM enterprise\n",
    "                               Group by TypeOfEnterprise\n",
    "                               ''', connection)\n",
    "\n",
    "sql_query_Q3T2 = pd.read_sql_query ('''\n",
    "                               SELECT *\n",
    "                               FROM code\n",
    "                               WHERE Language==\"FR\" AND Category==\"TypeOfEnterprise\"\n",
    "                               ''', connection)\n",
    "\n",
    "df_Q3T1 = pd.DataFrame(sql_query_Q3T1)\n",
    "df_Q3T1.rename(columns = {'TypeOfEnterprise':'Code'}, inplace = True)\n",
    "df_Q3T2 = pd.DataFrame(sql_query_Q3T2)\n",
    "df_Q3 = pd.merge(df_Q3T1, df_Q3T2, on='Code')\n",
    "df_Q3 = df_Q3[[\"count(EnterpriseNumber)\", \"Description\"]]\n",
    "df_Q3\n"
   ]
  },
  {
   "cell_type": "markdown",
   "metadata": {},
   "source": [
    "### Q4 DATA"
   ]
  },
  {
   "cell_type": "code",
   "execution_count": 212,
   "metadata": {},
   "outputs": [
    {
     "data": {
      "text/plain": [
       "NaceVersion\n",
       "2003     20804\n",
       "2008    498296\n",
       "Name: EntityNumber, dtype: int64"
      ]
     },
     "execution_count": 212,
     "metadata": {},
     "output_type": "execute_result"
    }
   ],
   "source": [
    "#ANALYSIS - Whether or not using NACE 2003?\n",
    "sql_query_Q4 = pd.read_sql_query ('''\n",
    "                               SELECT EntityNumber, NaceVersion\n",
    "                               FROM activity\n",
    "                               ''', connection)\n",
    "\n",
    "df_Q4 = pd.DataFrame(sql_query_Q4)\n",
    "# df_Q4[\"EntityNumber\"]=df_Q4[\"EntityNumber\"].drop_duplicates(keep:False)\n",
    "df_Q4 = df_Q4.drop_duplicates(subset=[\"EntityNumber\"], keep=False)\n",
    "df_Q4 = df_Q4.groupby([\"NaceVersion\"])[\"EntityNumber\"].count()\n",
    "df_Q4\n"
   ]
  },
  {
   "cell_type": "code",
   "execution_count": 213,
   "metadata": {},
   "outputs": [
    {
     "data": {
      "text/html": [
       "<div>\n",
       "<style scoped>\n",
       "    .dataframe tbody tr th:only-of-type {\n",
       "        vertical-align: middle;\n",
       "    }\n",
       "\n",
       "    .dataframe tbody tr th {\n",
       "        vertical-align: top;\n",
       "    }\n",
       "\n",
       "    .dataframe thead th {\n",
       "        text-align: right;\n",
       "    }\n",
       "</style>\n",
       "<table border=\"1\" class=\"dataframe\">\n",
       "  <thead>\n",
       "    <tr style=\"text-align: right;\">\n",
       "      <th></th>\n",
       "      <th>EnterpriseNumber</th>\n",
       "      <th>StartDate</th>\n",
       "      <th>NaceCode</th>\n",
       "      <th>age</th>\n",
       "    </tr>\n",
       "  </thead>\n",
       "  <tbody>\n",
       "    <tr>\n",
       "      <th>0</th>\n",
       "      <td>0200.065.765</td>\n",
       "      <td>1960-08-09</td>\n",
       "      <td>84</td>\n",
       "      <td>62.0</td>\n",
       "    </tr>\n",
       "    <tr>\n",
       "      <th>1</th>\n",
       "      <td>0200.065.765</td>\n",
       "      <td>1960-08-09</td>\n",
       "      <td>41</td>\n",
       "      <td>62.0</td>\n",
       "    </tr>\n",
       "    <tr>\n",
       "      <th>2</th>\n",
       "      <td>0200.068.636</td>\n",
       "      <td>1923-02-16</td>\n",
       "      <td>36</td>\n",
       "      <td>99.0</td>\n",
       "    </tr>\n",
       "    <tr>\n",
       "      <th>3</th>\n",
       "      <td>0200.068.636</td>\n",
       "      <td>1923-02-16</td>\n",
       "      <td>36</td>\n",
       "      <td>99.0</td>\n",
       "    </tr>\n",
       "    <tr>\n",
       "      <th>4</th>\n",
       "      <td>0200.068.636</td>\n",
       "      <td>1923-02-16</td>\n",
       "      <td>93</td>\n",
       "      <td>99.0</td>\n",
       "    </tr>\n",
       "    <tr>\n",
       "      <th>...</th>\n",
       "      <td>...</td>\n",
       "      <td>...</td>\n",
       "      <td>...</td>\n",
       "      <td>...</td>\n",
       "    </tr>\n",
       "    <tr>\n",
       "      <th>2998239</th>\n",
       "      <td>0998.534.826</td>\n",
       "      <td>1998-01-01</td>\n",
       "      <td>63</td>\n",
       "      <td>24.0</td>\n",
       "    </tr>\n",
       "    <tr>\n",
       "      <th>2998240</th>\n",
       "      <td>0998.549.771</td>\n",
       "      <td>1800-01-01</td>\n",
       "      <td>35</td>\n",
       "      <td>222.0</td>\n",
       "    </tr>\n",
       "    <tr>\n",
       "      <th>2998241</th>\n",
       "      <td>0998.562.738</td>\n",
       "      <td>1999-03-31</td>\n",
       "      <td>62</td>\n",
       "      <td>23.0</td>\n",
       "    </tr>\n",
       "    <tr>\n",
       "      <th>2998242</th>\n",
       "      <td>0998.576.495</td>\n",
       "      <td>2000-12-31</td>\n",
       "      <td>82</td>\n",
       "      <td>21.0</td>\n",
       "    </tr>\n",
       "    <tr>\n",
       "      <th>2998243</th>\n",
       "      <td>0998.605.201</td>\n",
       "      <td>2001-12-31</td>\n",
       "      <td>63</td>\n",
       "      <td>20.0</td>\n",
       "    </tr>\n",
       "  </tbody>\n",
       "</table>\n",
       "<p>2998244 rows × 4 columns</p>\n",
       "</div>"
      ],
      "text/plain": [
       "        EnterpriseNumber  StartDate  NaceCode    age\n",
       "0           0200.065.765 1960-08-09        84   62.0\n",
       "1           0200.065.765 1960-08-09        41   62.0\n",
       "2           0200.068.636 1923-02-16        36   99.0\n",
       "3           0200.068.636 1923-02-16        36   99.0\n",
       "4           0200.068.636 1923-02-16        93   99.0\n",
       "...                  ...        ...       ...    ...\n",
       "2998239     0998.534.826 1998-01-01        63   24.0\n",
       "2998240     0998.549.771 1800-01-01        35  222.0\n",
       "2998241     0998.562.738 1999-03-31        62   23.0\n",
       "2998242     0998.576.495 2000-12-31        82   21.0\n",
       "2998243     0998.605.201 2001-12-31        63   20.0\n",
       "\n",
       "[2998244 rows x 4 columns]"
      ]
     },
     "execution_count": 213,
     "metadata": {},
     "output_type": "execute_result"
    }
   ],
   "source": [
    "df_Q4M2008 = pd.read_csv(\"mapping_sector_2008.csv\")\n",
    "sql_query_Q4T1 = pd.read_sql_query ('''\n",
    "                               SELECT EnterpriseNumber, StartDate, NaceCode\n",
    "                               FROM enterprise\n",
    "                               INNER JOIN activity ON enterprise.EnterpriseNumber = activity.EntityNumber\n",
    "                               WHERE NaceVersion==2008\n",
    "                               ''',connection)\n",
    "\n",
    "df_Q4T1 = pd.DataFrame(sql_query_Q4T1)\n",
    "df_Q4T1[\"NaceCode\"] = df_Q4T1.NaceCode.str[:2].astype(int)\n",
    "# df_Q4T1[\"StartDate\"] = df_Q4T1.StartDate.str[:10].replace('-','', regex=True)\n",
    "df_Q4M2008 = pd.read_csv(\"mapping_sector_2008.csv\")\n",
    "sql_query_Q4T1 = pd.read_sql_query ('''\n",
    "                               SELECT EnterpriseNumber, StartDate, NaceCode\n",
    "                               FROM enterprise\n",
    "                               INNER JOIN activity ON enterprise.EnterpriseNumber = activity.EntityNumber\n",
    "                               WHERE NaceVersion==2008\n",
    "                               ''',connection)\n",
    "\n",
    "#DATA CLEANING : FIrst two digit extract and age caclulation\n",
    "df_Q4T1 = pd.DataFrame(sql_query_Q4T1)\n",
    "df_Q4T1[\"NaceCode\"] = df_Q4T1.NaceCode.str[:2].astype(int)\n",
    "\n",
    "today = datetime.today()\n",
    "\n",
    "df_Q4T1[\"StartDate\"] = pd.to_datetime(df_Q4T1[\"StartDate\"], errors='coerce')\n",
    "df_Q4T1['age'] = df_Q4T1[\"StartDate\"].apply(\n",
    "               lambda x: today.year - x.year - \n",
    "               ((today.month, today.day) < (x.month, x.day)))\n",
    "df_Q4T1"
   ]
  },
  {
   "cell_type": "code",
   "execution_count": 222,
   "metadata": {},
   "outputs": [
    {
     "data": {
      "text/html": [
       "<div>\n",
       "<style scoped>\n",
       "    .dataframe tbody tr th:only-of-type {\n",
       "        vertical-align: middle;\n",
       "    }\n",
       "\n",
       "    .dataframe tbody tr th {\n",
       "        vertical-align: top;\n",
       "    }\n",
       "\n",
       "    .dataframe thead th {\n",
       "        text-align: right;\n",
       "    }\n",
       "</style>\n",
       "<table border=\"1\" class=\"dataframe\">\n",
       "  <thead>\n",
       "    <tr style=\"text-align: right;\">\n",
       "      <th></th>\n",
       "      <th>age</th>\n",
       "    </tr>\n",
       "    <tr>\n",
       "      <th>sector</th>\n",
       "      <th></th>\n",
       "    </tr>\n",
       "  </thead>\n",
       "  <tbody>\n",
       "    <tr>\n",
       "      <th>Activités de services administratifs et de soutien</th>\n",
       "      <td>9.021065</td>\n",
       "    </tr>\n",
       "    <tr>\n",
       "      <th>Activités des ménages en tant qu'employeurs; activités indifférenciées des ménages en tant que producteurs de biens et services pour usage propre</th>\n",
       "      <td>8.438596</td>\n",
       "    </tr>\n",
       "    <tr>\n",
       "      <th>Activités extra-territoriales</th>\n",
       "      <td>27.486486</td>\n",
       "    </tr>\n",
       "    <tr>\n",
       "      <th>Activités financières et d'assurance</th>\n",
       "      <td>11.949420</td>\n",
       "    </tr>\n",
       "    <tr>\n",
       "      <th>Activités immobilières</th>\n",
       "      <td>14.148431</td>\n",
       "    </tr>\n",
       "    <tr>\n",
       "      <th>Activités spécialisées, scientifiques et techniques</th>\n",
       "      <td>10.183496</td>\n",
       "    </tr>\n",
       "    <tr>\n",
       "      <th>Administration publique</th>\n",
       "      <td>38.797405</td>\n",
       "    </tr>\n",
       "    <tr>\n",
       "      <th>Agriculture, sylviculture et pêche</th>\n",
       "      <td>18.332738</td>\n",
       "    </tr>\n",
       "    <tr>\n",
       "      <th>Arts, spectacles et activités récréatives</th>\n",
       "      <td>10.234810</td>\n",
       "    </tr>\n",
       "    <tr>\n",
       "      <th>Autres activités de services</th>\n",
       "      <td>12.030805</td>\n",
       "    </tr>\n",
       "    <tr>\n",
       "      <th>Commerce; réparation de véhicules automobiles et de motocycles</th>\n",
       "      <td>13.479794</td>\n",
       "    </tr>\n",
       "    <tr>\n",
       "      <th>Construction</th>\n",
       "      <td>10.050316</td>\n",
       "    </tr>\n",
       "    <tr>\n",
       "      <th>Enseignement</th>\n",
       "      <td>7.469057</td>\n",
       "    </tr>\n",
       "    <tr>\n",
       "      <th>Hébergement et restauration</th>\n",
       "      <td>11.932278</td>\n",
       "    </tr>\n",
       "    <tr>\n",
       "      <th>Industrie manufacturière</th>\n",
       "      <td>12.921083</td>\n",
       "    </tr>\n",
       "    <tr>\n",
       "      <th>Industries extractives</th>\n",
       "      <td>27.906298</td>\n",
       "    </tr>\n",
       "    <tr>\n",
       "      <th>Information et communication</th>\n",
       "      <td>8.316339</td>\n",
       "    </tr>\n",
       "    <tr>\n",
       "      <th>Production et distribution d'eau; assainissement, gestion des déchets et dépollution</th>\n",
       "      <td>15.098314</td>\n",
       "    </tr>\n",
       "    <tr>\n",
       "      <th>Production et distribution d'électricité, de gaz, de vapeur et d'air conditionné</th>\n",
       "      <td>9.694165</td>\n",
       "    </tr>\n",
       "    <tr>\n",
       "      <th>Santé humaine et action sociale</th>\n",
       "      <td>14.089728</td>\n",
       "    </tr>\n",
       "    <tr>\n",
       "      <th>Transports et entreposage</th>\n",
       "      <td>12.560878</td>\n",
       "    </tr>\n",
       "  </tbody>\n",
       "</table>\n",
       "</div>"
      ],
      "text/plain": [
       "                                                          age\n",
       "sector                                                       \n",
       "Activités de services administratifs et de soutien   9.021065\n",
       "Activités des ménages en tant qu'employeurs; ac...   8.438596\n",
       "Activités extra-territoriales                       27.486486\n",
       "Activités financières et d'assurance                11.949420\n",
       "Activités immobilières                              14.148431\n",
       "Activités spécialisées, scientifiques et techni...  10.183496\n",
       "Administration publique                             38.797405\n",
       "Agriculture, sylviculture et pêche                  18.332738\n",
       "Arts, spectacles et activités récréatives           10.234810\n",
       "Autres activités de services                        12.030805\n",
       "Commerce; réparation de véhicules automobiles e...  13.479794\n",
       "Construction                                        10.050316\n",
       "Enseignement                                         7.469057\n",
       "Hébergement et restauration                         11.932278\n",
       "Industrie manufacturière                            12.921083\n",
       "Industries extractives                              27.906298\n",
       "Information et communication                         8.316339\n",
       "Production et distribution d'eau; assainissemen...  15.098314\n",
       "Production et distribution d'électricité, de ga...   9.694165\n",
       "Santé humaine et action sociale                     14.089728\n",
       "Transports et entreposage                           12.560878"
      ]
     },
     "execution_count": 222,
     "metadata": {},
     "output_type": "execute_result"
    }
   ],
   "source": [
    "#Create maaping dataframe\n",
    "\n",
    "df_Q4M2008.code_sector.astype(int)\n",
    "dict_M2008 = df_Q4M2008.set_index('code_sector').to_dict()['title_sector']\n",
    "df_Q4T1[\"sector\"] = df_Q4T1[\"NaceCode\"].map(dict_M2008)\n",
    "df_Q4T1 = df_Q4T1.groupby(\"sector\").agg({\"age\":\"mean\"})\n",
    "df_Q4T1\n"
   ]
  },
  {
   "cell_type": "markdown",
   "metadata": {},
   "source": [
    "# GRAPHIC DESIGN"
   ]
  },
  {
   "cell_type": "markdown",
   "metadata": {},
   "source": [
    "### Q1 GRAPH"
   ]
  },
  {
   "cell_type": "code",
   "execution_count": 214,
   "metadata": {},
   "outputs": [
    {
     "data": {
      "text/plain": [
       "DeltaGenerator(_root_container=0, _provided_cursor=None, _parent=None, _block_type=None, _form_data=None)"
      ]
     },
     "execution_count": 214,
     "metadata": {},
     "output_type": "execute_result"
    }
   ],
   "source": [
    "# Pie chart, where the slices will be ordered and plotted counter-clockwise:\n",
    "fig1, ax1 = plt.subplots()\n",
    "ax1.pie(df_Q1T1['Total_Enterprise'], labels = df_Q1T1['Description'], autopct='%1.1f%%')\n",
    "st.pyplot(fig1)"
   ]
  },
  {
   "cell_type": "markdown",
   "metadata": {},
   "source": [
    "### Q2 GRAPH"
   ]
  },
  {
   "cell_type": "code",
   "execution_count": 215,
   "metadata": {},
   "outputs": [
    {
     "data": {
      "text/plain": [
       "DeltaGenerator(_root_container=0, _provided_cursor=None, _parent=None, _block_type=None, _form_data=None)"
      ]
     },
     "execution_count": 215,
     "metadata": {},
     "output_type": "execute_result"
    }
   ],
   "source": [
    "#Display the number of active company\n",
    "st.markdown(f\"<h1 style='text-align: center; color: black;'>The number of active enterprise is :  </h1>\", unsafe_allow_html=True)\n",
    "st.markdown(f\"<h1 style='text-align: center; color: grey;'>{score_active_ent} </h1>\", unsafe_allow_html=True)"
   ]
  },
  {
   "cell_type": "markdown",
   "metadata": {},
   "source": [
    "### Q3 GRAPH"
   ]
  },
  {
   "cell_type": "code",
   "execution_count": 216,
   "metadata": {},
   "outputs": [
    {
     "data": {
      "text/plain": [
       "DeltaGenerator(_root_container=0, _provided_cursor=None, _parent=None, _block_type=None, _form_data=None)"
      ]
     },
     "execution_count": 216,
     "metadata": {},
     "output_type": "execute_result"
    }
   ],
   "source": [
    "# Pie chart, where the slices will be ordered and plotted counter-clockwise:\n",
    "labels = df_Q3[\"Description\"]\n",
    "sizes = df_Q3[\"count(EnterpriseNumber)\"]\n",
    "\n",
    "fig3, ax3 = plt.subplots()\n",
    "ax3.pie(sizes, labels=labels, autopct='%1.1f%%',\n",
    "        shadow=True, startangle=90)\n",
    "ax3.axis('equal')  # Equal aspect ratio ensures that pie is drawn as a circle.\n",
    "\n",
    "st.pyplot(fig3)"
   ]
  }
 ],
 "metadata": {
  "kernelspec": {
   "display_name": "Python 3.10.8 ('ENV_DATAVIZ': venv)",
   "language": "python",
   "name": "python3"
  },
  "language_info": {
   "codemirror_mode": {
    "name": "ipython",
    "version": 3
   },
   "file_extension": ".py",
   "mimetype": "text/x-python",
   "name": "python",
   "nbconvert_exporter": "python",
   "pygments_lexer": "ipython3",
   "version": "3.10.8"
  },
  "orig_nbformat": 4,
  "vscode": {
   "interpreter": {
    "hash": "6b5cab350c52d88baf4e21cb1c9b1b3566bdd8c0d7206032f36fd8efa8ffdd02"
   }
  }
 },
 "nbformat": 4,
 "nbformat_minor": 2
}
